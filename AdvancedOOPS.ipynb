{
 "cells": [
  {
   "cell_type": "markdown",
   "metadata": {
    "ExecuteTime": {
     "end_time": "2021-03-21T02:54:24.657591Z",
     "start_time": "2021-03-21T02:54:24.625570Z"
    }
   },
   "source": [
    "## Krishna Thakor <br>\n",
    "\n",
    "Design and write 4 classes: Person, Student, Teacher, Classroom<br>\n",
    "\n",
    "Consider the following requirements:<br>\n",
    "\n",
    "Person -<br>\n",
    "\n",
    "Should have a name and age attribute<br>"
   ]
  },
  {
   "cell_type": "code",
   "execution_count": 1,
   "metadata": {
    "ExecuteTime": {
     "end_time": "2021-03-21T04:49:37.313821Z",
     "start_time": "2021-03-21T04:49:37.309175Z"
    }
   },
   "outputs": [],
   "source": [
    "import random"
   ]
  },
  {
   "cell_type": "code",
   "execution_count": 2,
   "metadata": {
    "ExecuteTime": {
     "end_time": "2021-03-21T04:49:37.334141Z",
     "start_time": "2021-03-21T04:49:37.326607Z"
    }
   },
   "outputs": [],
   "source": [
    "class Person(object): # Person class which will be the base class for our little project\n",
    "    def __init__(self, name, age):\n",
    "        self.name = name\n",
    "        self.age = age\n",
    "\n"
   ]
  },
  {
   "cell_type": "markdown",
   "metadata": {},
   "source": [
    "Student -<br>\n",
    "\n",
    "Should have name, age, and major attribute.<br>\n",
    "Should have an answersQuestion behavior<br>\n",
    "50/50 chance that the student answers the question correctly or incorrectly<br>\n",
    "Ex. - \"[student name] answered the question correctly!\"<br>"
   ]
  },
  {
   "cell_type": "code",
   "execution_count": 3,
   "metadata": {
    "ExecuteTime": {
     "end_time": "2021-03-21T04:49:37.360363Z",
     "start_time": "2021-03-21T04:49:37.348274Z"
    }
   },
   "outputs": [],
   "source": [
    "class Student(Person): # Student inherits the person class\n",
    "    def __init__(self, name, age, major):\n",
    "        self.major = major\n",
    "        Person.__init__(self, name, age)\n",
    "    \n",
    "    def answersQuestion(self):\n",
    "        # 50/50 chance that the student answers the question correctly or incorrectly\n",
    "        chance = random.randint(0,1) # chance will either be 0 or 1 everytime the function is called\n",
    "        if chance == 0:\n",
    "            print(self.name + \" answered the question correctly!\")\n",
    "        else:\n",
    "            print(self.name + \" answered the question incorrectly!\")\n",
    "    \n"
   ]
  },
  {
   "cell_type": "markdown",
   "metadata": {},
   "source": [
    "Teacher -<br>\n",
    "\n",
    "Should have a name, age, and isTenured attribute.<br>\n",
    "Should have a callsOnStudent behavior<br>\n",
    "This will direct a question at a specific student<br>\n",
    "Ex. - \"[teacher name] asks [student name] a question.\"<br>"
   ]
  },
  {
   "cell_type": "code",
   "execution_count": 4,
   "metadata": {
    "ExecuteTime": {
     "end_time": "2021-03-21T04:49:37.383659Z",
     "start_time": "2021-03-21T04:49:37.367619Z"
    }
   },
   "outputs": [],
   "source": [
    "class Teacher(Person): # Teahcer inherits the person class\n",
    "    def __init__(self, name, age, isTenured):\n",
    "        self.isTenured = isTenured\n",
    "        Person.__init__(self, name, age) \n",
    "        \n",
    "    def callsOnStudent(self, StuName):\n",
    "        # stu is an object of the Student Classabs\n",
    "        # StuName is the name from the class roaster passed from the classroom class\n",
    "        stu = Student(StuName, 26, \"BINF\") \n",
    "        print(\"\\n\")\n",
    "        print(self.name + \" asks \" + StuName + \"  a question.\")\n",
    "        stu.answersQuestion() # we are calling the answersQuestion method of the Student class\n",
    "        "
   ]
  },
  {
   "cell_type": "markdown",
   "metadata": {},
   "source": [
    "Classroom -<br>\n",
    "\n",
    "Should have a teacher and classRoster attribute.<br>\n",
    "Should have a startClass behavior<br>\n",
    "This should introduce the class, then initiate a minimum of 5<br> rounds of calling on a random student and having that student answer. After these rounds, class should be ended.<br>"
   ]
  },
  {
   "cell_type": "code",
   "execution_count": 5,
   "metadata": {
    "ExecuteTime": {
     "end_time": "2021-03-21T04:49:37.402706Z",
     "start_time": "2021-03-21T04:49:37.388055Z"
    }
   },
   "outputs": [],
   "source": [
    "class Classroom(Teacher):\n",
    "    def __init__(self, teacher, classRoster):\n",
    "        self.teacher = teacher\n",
    "        self.classRoster = classRoster\n",
    "    \n",
    "    def startClass(self):\n",
    "        teach = Teacher(self.teacher, 30, \"Yes\") # Teacher class initialized with  Classroom attribute teacher and classRoaster\n",
    "        print(\"Hello Student!!\" + \" My name is \"+ self.teacher + \"!!\")\n",
    "        print(\"\\n\")\n",
    "        print(\"My students are \", self.classRoster)\n",
    "        \n",
    "        i = 0\n",
    "        # This should introduce the class, then initiate a minimum of 5\n",
    "        # rounds of calling on a random student and having that student answer\n",
    "        while i < 5:\n",
    "            rand = random.randint(0, len(self.classRoster)-1)\n",
    "            # we are passing the random classRoster student as an argument to the callsOnStudent method of Teacher Class\n",
    "            teach.callsOnStudent(self.classRoster[rand])   \n",
    "            i += 1\n",
    "            \n",
    "        print(\"\\n\")\n",
    "        print(\"Class ended. Thank you for attending!!\")\n",
    "        "
   ]
  },
  {
   "cell_type": "code",
   "execution_count": 6,
   "metadata": {
    "ExecuteTime": {
     "end_time": "2021-03-21T04:49:37.424384Z",
     "start_time": "2021-03-21T04:49:37.409781Z"
    }
   },
   "outputs": [],
   "source": [
    "classRoster = [\"IronMan\", \"CaptainAmerica\", \"Hulk\", \"Thor\", \"SpiderMan\"] # class roaster(name of the students)\n",
    "class1 = Classroom(\"Dr. Whaley\", classRoster) # class1 is an object of the Classroom Class"
   ]
  },
  {
   "cell_type": "code",
   "execution_count": 7,
   "metadata": {
    "ExecuteTime": {
     "end_time": "2021-03-21T04:49:37.452826Z",
     "start_time": "2021-03-21T04:49:37.433265Z"
    }
   },
   "outputs": [
    {
     "name": "stdout",
     "output_type": "stream",
     "text": [
      "Hello Student!! My name is Dr. Whaley!!\n",
      "\n",
      "\n",
      "My students are  ['IronMan', 'CaptainAmerica', 'Hulk', 'Thor', 'SpiderMan']\n",
      "\n",
      "\n",
      "Dr. Whaley asks CaptainAmerica  a question.\n",
      "CaptainAmerica answered the question correctly!\n",
      "\n",
      "\n",
      "Dr. Whaley asks SpiderMan  a question.\n",
      "SpiderMan answered the question correctly!\n",
      "\n",
      "\n",
      "Dr. Whaley asks Thor  a question.\n",
      "Thor answered the question correctly!\n",
      "\n",
      "\n",
      "Dr. Whaley asks Hulk  a question.\n",
      "Hulk answered the question incorrectly!\n",
      "\n",
      "\n",
      "Dr. Whaley asks SpiderMan  a question.\n",
      "SpiderMan answered the question correctly!\n",
      "\n",
      "\n",
      "Class ended. Thank you for attending!!\n"
     ]
    }
   ],
   "source": [
    "class1.startClass() # call the startClass method of Classroom class"
   ]
  }
 ],
 "metadata": {
  "kernelspec": {
   "display_name": "Python 3",
   "language": "python",
   "name": "python3"
  },
  "language_info": {
   "codemirror_mode": {
    "name": "ipython",
    "version": 3
   },
   "file_extension": ".py",
   "mimetype": "text/x-python",
   "name": "python",
   "nbconvert_exporter": "python",
   "pygments_lexer": "ipython3",
   "version": "3.8.5"
  }
 },
 "nbformat": 4,
 "nbformat_minor": 4
}
