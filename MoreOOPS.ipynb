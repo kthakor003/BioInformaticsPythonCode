{
 "cells": [
  {
   "cell_type": "code",
   "execution_count": 2,
   "metadata": {
    "ExecuteTime": {
     "end_time": "2021-03-18T04:13:18.324729Z",
     "start_time": "2021-03-18T04:13:18.304449Z"
    }
   },
   "outputs": [],
   "source": [
    "aa_dict = {'M':['ATG'], 'F':['TTT', 'TTC'], 'L':['TTA', 'TTG', 'CTT', 'CTC', 'CTA', 'CTG'], 'C':['TGT', 'TGC'], 'Y':['TAC', 'TAT'], 'W':['TGG'], 'P':['CCT', 'CCC', 'CCA', 'CCG'], 'H':['CAT', 'CAC'], \n",
    "'Q':['CAA', 'CAG'], 'R':['CGT', 'CGC', 'CGA', 'CGG', 'AGA', 'AGG'], 'I':['ATT', 'ATC', 'ATA'], 'T':['ACT', 'ACC', 'ACA', 'ACG'], \n",
    "'N':['AAT', 'AAC'], 'K':['AAA', 'AAG'], 'S':['AGT', 'AGC', 'TCT', 'TCC', 'TCA', 'TCG'], 'V':['GTT', 'GTC', 'GTA', 'GTG'], \n",
    "'A':['GCT', 'GCC', 'GCA', 'GCG'], 'D':['GAT', 'GAC'], 'E':['GAA', 'GAG'], 'G':['GGT', 'GGC', 'GGA', 'GGG'], '*':['TAA','TAG','TGA']}"
   ]
  },
  {
   "cell_type": "code",
   "execution_count": 3,
   "metadata": {
    "ExecuteTime": {
     "end_time": "2021-03-18T04:13:18.825510Z",
     "start_time": "2021-03-18T04:13:18.804216Z"
    }
   },
   "outputs": [],
   "source": [
    "class Sequence(object):\n",
    "    def __init__(self, bases):\n",
    "        self.bases = bases\n",
    "    \n",
    "    # if we want to print the translated DNA seq into Protein seq then uncomment\n",
    "#     def __repr__(self):\n",
    "#         return self.bases\n",
    "    \n",
    " # to create the complementry sequence of the bases       \n",
    "    def comSequence(sequence): \n",
    "        seq = self.bases\n",
    "        comSeq = \"\"\n",
    "        invalidBase = \"\"\n",
    "        for i in range(0, len(seq)):\n",
    "            if seq[i] == \"A\":\n",
    "                comSeq = comSeq + \"T\"\n",
    "            elif seq[i] == \"T\":\n",
    "                comSeq = comSeq + \"A\"\n",
    "            elif seq[i] == \"G\":\n",
    "                comSeq = comSeq + \"C\"\n",
    "            elif seq[i]  == \"C\":\n",
    "                comSeq = comSeq + \"G\"\n",
    "            else:\n",
    "                comSeq += \"N\"            \n",
    "                invalidBases += str(i)+ ','       # to create the invalid base position\n",
    "                \n",
    "        print(\"The complementry sequence is: \" + compSeq)  \n",
    "        print(\"Invalid base position\" + invalidBase[:-1])   \n",
    "    \n",
    "        return comSeq"
   ]
  },
  {
   "cell_type": "code",
   "execution_count": 4,
   "metadata": {
    "ExecuteTime": {
     "end_time": "2021-03-18T04:13:19.505798Z",
     "start_time": "2021-03-18T04:13:19.487409Z"
    }
   },
   "outputs": [],
   "source": [
    "# creation of the second class named SequenceRecords\n",
    "\n",
    "class SequenceRecord(object):\n",
    "    def __init__(self, label, SeqObj):\n",
    "        self.label = label\n",
    "        self.SeqObj = SeqObj\n",
    "    \n",
    "    def seq(self):\n",
    "        return self.SeqObj\n",
    "        "
   ]
  },
  {
   "cell_type": "code",
   "execution_count": 5,
   "metadata": {
    "ExecuteTime": {
     "end_time": "2021-03-18T04:13:20.226947Z",
     "start_time": "2021-03-18T04:13:20.189180Z"
    }
   },
   "outputs": [
    {
     "name": "stdout",
     "output_type": "stream",
     "text": [
      "<__main__.SequenceRecord object at 0x7fb081b228e0>\n",
      "<__main__.SequenceRecord object at 0x7fb081cf6370>\n"
     ]
    }
   ],
   "source": [
    "# to read the fasrta file\n",
    "file = r\"sampleFa.fa\"\n",
    "f = open(file, 'r')\n",
    "data = f.readlines()\n",
    "\n",
    "# to seperate the header and the sequence from the fasta file\n",
    "def readFasta(file):\n",
    "    name = None\n",
    "    seq = \"\"\n",
    "    seqList = []\n",
    "    for line in file:\n",
    "        if line.startswith(\">\"): # To differentiate between header and sequences\n",
    "            if name:\n",
    "                seqObj = Sequence(seq)\n",
    "                seqRecord = SequenceRecord(name, seqObj)\n",
    "                yield seqRecord\n",
    "                name = None\n",
    "                seq = \"\"\n",
    "            name = line.rstrip().lstrip(\">\")\n",
    "        else:\n",
    "            seq += line.rstrip()\n",
    "#     seqList.append(seq)\n",
    "            \n",
    "#     print(seqList)\n",
    "#     yield name, seq # yield the name(header) and seq to create dictionary\n",
    "        \n",
    "\n",
    "for seqRecordObj in readFasta(data):\n",
    "    print(seqRecordObj)"
   ]
  },
  {
   "cell_type": "markdown",
   "metadata": {},
   "source": [
    "Protein\n",
    "\n",
    "a method of your choice. In this case,<br> if the method you would implement is too complex to reasonably implement or would use resources you don't have access to,t<br> it is okay to leave it as what is called a stub method (has only one line, \"pass\") and explain in comments what this method would do and it's purpose"
   ]
  },
  {
   "cell_type": "code",
   "execution_count": 6,
   "metadata": {
    "ExecuteTime": {
     "end_time": "2021-03-18T04:13:22.171600Z",
     "start_time": "2021-03-18T04:13:22.163445Z"
    }
   },
   "outputs": [],
   "source": [
    "class ProteinSequence(Sequence):\n",
    "    def __init__(self, transSeq):\n",
    "        Sequence.__init__(self, transSeq) # to initialize the members of the base class\n",
    "        self.transSeq = transSeq\n",
    "        \n",
    "#     def __repr__(self):\n",
    "#         return \"The tranlsated Sequence is - \" + self.transSeq\n",
    "    \n",
    "    def getProtienPercent(self):\n",
    "        aa_list = ['M' 'F' 'L' 'C', 'Y', 'W', 'P','H','Q', 'R', 'I', 'T','N', 'K', 'S', 'V', 'A', 'D', 'E', 'G']  \n",
    "        total = 0 \n",
    "        for amino in aa_list:\n",
    "            aa_count = self.transSeq.count(amino) # check for the occurance of the Animo acid in the translated Sequence \n",
    "            total = total + aa_count \n",
    "        \n",
    "        percent = total * 100 / len(self.transSeq)\n",
    "        return \"Protein percentage is \" + str(percent) + \"%\""
   ]
  },
  {
   "cell_type": "markdown",
   "metadata": {},
   "source": [
    "DNA\n",
    "\n",
    "a translate method that will convert the DNA sequence and return a ProteinSequence object<br>\n",
    "one other method of your choice (what you did previously is fine)\n"
   ]
  },
  {
   "cell_type": "code",
   "execution_count": 141,
   "metadata": {
    "ExecuteTime": {
     "end_time": "2021-03-17T04:11:50.252195Z",
     "start_time": "2021-03-17T04:11:50.239336Z"
    }
   },
   "outputs": [],
   "source": [
    "class DNASequence(Sequence):\n",
    "    def __init__(self, bases):\n",
    "        Sequence.__init__(self, bases) # to initialize the members of the base class\n",
    "        self.sequence = str(bases)\n",
    "    \n",
    "    def __repr__(self):\n",
    "        return 'Sequence is :- ' + self.sequence\n",
    "    \n",
    "    def translate(self):\n",
    "        seq = ''\n",
    "        for k, v in aa_dict.items():\n",
    "            for codon in v: # for every codon in the dictionary values\n",
    "                if seq != '':\n",
    "                    seq = seq.replace(codon, k) # replace the Codon with its resp Amino Acid value\n",
    "                else:\n",
    "                    seq = self.sequence.replace(codon, k)\n",
    "                    \n",
    "        protSeqObj = ProteinSequence(seq) # create a Protein sequence object to return\n",
    "        yield protSeqObj\n",
    "    \n",
    "    # Generation of reverse compliment sequence\n",
    "    # In order to generate the reverse comp, we need to uncomment __repr__ in the Sequence class\n",
    "    def reverse_compliment(self):\n",
    "        reverse_comp = \"\"\n",
    "        for i in range(len(self.sequence) - 1, -1, -1):\n",
    "            reverse_comp = reverse_comp + self.sequence[i]\n",
    "\n",
    "        return \"Reverse com is: \" + reverse_comp"
   ]
  },
  {
   "cell_type": "markdown",
   "metadata": {},
   "source": [
    "repr in Base class Sequence commented"
   ]
  },
  {
   "cell_type": "code",
   "execution_count": 143,
   "metadata": {
    "ExecuteTime": {
     "end_time": "2021-03-17T04:12:10.739207Z",
     "start_time": "2021-03-17T04:12:10.730306Z"
    }
   },
   "outputs": [
    {
     "name": "stdout",
     "output_type": "stream",
     "text": [
      "<__main__.ProteinSequence object at 0x7fa9607c8160>\n",
      "True\n",
      "Protein percentage is 2.272727272727273%\n",
      "Reverse com is: >09ddee369af7x0 ta tcejbo ecneuqeS.__niam__<\n",
      "Sequence is :- <__main__.Sequence object at 0x7fa963eedd90>\n",
      "True\n"
     ]
    }
   ],
   "source": [
    "dnaseqObj = DNASequence(seqRecordObj.seq())\n",
    "\n",
    "#a translate method that will convert the DNA sequence and return a ProteinSequence object\n",
    "for protSeqObjs in dnaseqObj.translate():\n",
    "    print(protSeqObjs) # This will print the string since we have declared __repr__ else will print the object\n",
    "    print(isinstance(protSeqObjs, Sequence))\n",
    "    print(protSeqObjs.getProtienPercent())\n",
    "\n",
    "# Method of our choice\n",
    "print(dnaseqObj.reverse_compliment())\n",
    "\n",
    "print(dnaseqObj) # it will print the original sequence\n",
    "print(isinstance(dnaseqObj, Sequence))"
   ]
  },
  {
   "cell_type": "markdown",
   "metadata": {},
   "source": [
    "__repr__ in Base class Sequence Uncommented"
   ]
  },
  {
   "cell_type": "code",
   "execution_count": 133,
   "metadata": {
    "ExecuteTime": {
     "end_time": "2021-03-17T04:09:27.812069Z",
     "start_time": "2021-03-17T04:09:27.789739Z"
    }
   },
   "outputs": [
    {
     "name": "stdout",
     "output_type": "stream",
     "text": [
      "The tranlsated Sequence is - MRMGRGQYLFTLAFIAFLTLAPATLGLAFGARGLGLYRALTHKALALQTALGIMHMRATMCMQGRIGCLGKQACMGKAAQARRR*RGMTRTQRARTGLARLWGRRAQGGRRGPGAFWPFPYGARRILTPTMCAFQTAFAG\n",
      "True\n",
      "Protein percentage is 72.85714285714286%\n",
      "Reverse com is: GATTTATAACTTTACGTATGCCTATCATAAGCGGCAGCATACCCTTGCCGGTTTTAGGCCGGGAGGAGGGACAAGAAGAGGGTGTTGGAAATTGTGGAAGGAAACTAGATGTATGGGGCAGTGGCAGCGGAAAACAAAAAGGTACAGACAAAGGTTCGATAGGTGTGGACGTACGTATAAGAGTATACGTATTAGGTTATAACATTAATTAAAACACTGTTACGCCATGTTGGTCGTGCAGTTTAATTGCTCTAACCACTCTGTTTTTACTACTTAATCTTTTCTCTATAACGGGAGGTAAGCGTA\n",
      "Sequence is :- ATGCGAATGGAGGGCAATATCTCTTTTCTAATTCATCATTTTTGTCTCACCAATCTCGTTAATTTGACGTGCTGGTTGTACCGCATTGTCACAAAATTAATTACAATATTGGATTATGCATATGAGAATATGCATGCAGGTGTGGATAGCTTGGAAACAGACATGGAAAAACAAAAGGCGACGGTGACGGGGTATGTAGATCAAAGGAAGGTGTTAAAGGTTGTGGGAGAAGAACAGGGAGGAGGGCCGGATTTTGGCCGTTCCCATACGACGGCGAATACTATCCGTATGCATTTCAATATTTAG\n",
      "True\n"
     ]
    }
   ],
   "source": [
    "dnaseqObj = DNASequence(seqRecordObj.seq())\n",
    "\n",
    "#a translate method that will convert the DNA sequence and return a ProteinSequence object\n",
    "for protSeqObjs in dnaseqObj.translate():\n",
    "    print(protSeqObjs) # This will print the string since we have declared __repr__\n",
    "    print(isinstance(protSeqObjs, Sequence))\n",
    "    print(protSeqObjs.getProtienPercent())\n",
    "\n",
    "# Method of our choice\n",
    "print(dnaseqObj.reverse_compliment())\n",
    "\n",
    "print(dnaseqObj) # it will print the original sequence\n",
    "print(isinstance(dnaseqObj, Sequence))\n"
   ]
  }
 ],
 "metadata": {
  "kernelspec": {
   "display_name": "Python 3",
   "language": "python",
   "name": "python3"
  },
  "language_info": {
   "codemirror_mode": {
    "name": "ipython",
    "version": 3
   },
   "file_extension": ".py",
   "mimetype": "text/x-python",
   "name": "python",
   "nbconvert_exporter": "python",
   "pygments_lexer": "ipython3",
   "version": "3.8.5"
  }
 },
 "nbformat": 4,
 "nbformat_minor": 4
}
