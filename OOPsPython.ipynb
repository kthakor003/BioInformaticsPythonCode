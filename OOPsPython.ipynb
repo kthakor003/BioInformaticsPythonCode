{
 "cells": [
  {
   "cell_type": "markdown",
   "metadata": {
    "ExecuteTime": {
     "end_time": "2021-03-05T01:54:09.205697Z",
     "start_time": "2021-03-05T01:54:09.184270Z"
    }
   },
   "source": [
    "### Krishna Thakor"
   ]
  },
  {
   "cell_type": "code",
   "execution_count": 1,
   "metadata": {
    "ExecuteTime": {
     "end_time": "2021-03-05T04:11:28.269303Z",
     "start_time": "2021-03-05T04:11:28.241166Z"
    }
   },
   "outputs": [],
   "source": [
    "import random\n",
    "\n",
    "# to create the class called matrix\n",
    "class Matrix:\n",
    "    def __init__(self, row, col):\n",
    "        self.numRow = row\n",
    "        self.numCol = col\n",
    "        self.matrix = []\n",
    "        self.matrixAI = []\n",
    "        \n",
    "# to create the natrix that takes randomvalues from 0 to 10 to populatethe columan \n",
    "    def createMatrix(self):\n",
    "        self.matrix = []\n",
    "        for _ in range(self.numRow):\n",
    "            rowList = []\n",
    "            for _ in range(self.numCol):\n",
    "                rowList.append(random.randint(0, 10))\n",
    "            self.matrix.append(rowList)\n",
    "            \n",
    "        return self.matrix # returning the class variable matrix\n",
    "    \n",
    "#  alternative way to create the second matrix   \n",
    "    def createMatrixAutomatically(self):\n",
    "        self.matrixAI = []\n",
    "        len1 = random.randint(0, 6)  # taking the random length of matrix 0 to 6\n",
    "        for i in range(len1):\n",
    "            rowList = []\n",
    "            for _ in range(len1):\n",
    "                rowList.append(random.randint(0, 10))  \n",
    "            self.matrixAI.append(rowList)\n",
    "            \n",
    " # to print the class matrix   \n",
    "    def printMatrix(self, matrix):\n",
    "        for i in matrix:\n",
    "            print(i)\n",
    "            \n",
    "# to print the bonus matrix  \n",
    "    def printAIMatrix(self):\n",
    "        if len(self.matrixAI) < 1:  # to check the length the matrix since length ofboth matrix should be equal in order to add\n",
    "            print(\"First create a matrix using -createMatrixAutomatically- method\")\n",
    "        else:\n",
    "            for i in range(len(self.matrixAI)):\n",
    "                print(self.matrixAI[i])\n",
    "\n",
    "    # Get the numbers contained in a certain row and return that as a list\n",
    "    def getRow(self, rowNum):\n",
    "        if rowNum >= len(self.matrix) or rowNum < 0: # Check to see if the input is more than len of Matrix \n",
    "            print(\"Row Number cannot be greater than length of the matrix.\")\n",
    "            print(\"enter number from 0 and less than \", len(self.matrix))\n",
    "        else:\n",
    "            print(self.matrix[rowNum-1]) # print the entire row\n",
    "    \n",
    "    # Get the numbers contained in a certain column and return that as a list\n",
    "    def getCol(self, colNum):\n",
    "        if colNum >= len(self.matrix) or colNum < 0: # Check to see if the input is more than len of Matrix\n",
    "            print(\"Col Number cannot be greater than length of the matrix.\")\n",
    "            print(\"enter number from 0 and less than \", len(self.matrix))\n",
    "        else:\n",
    "            colList = []\n",
    "            for i in range(len(self.matrix)):\n",
    "                colList.append(self.matrix[i][colNum-1]) # print only the specified column values of all the rows\n",
    "        \n",
    "            print(colList)\n",
    "    \n",
    "    # Adding 2 matrices\n",
    "    def addMatrices(self, mat1, mat2):\n",
    "        if len(mat1) != len(mat2):\n",
    "            print(\"A matrix can only be added to another matrix if the two matrices have the same dimensions.\")\n",
    "        else:\n",
    "            # creating an empty matrix of same dimension as of other matrices\n",
    "            newMatrix = []\n",
    "            for _ in range(len(mat1)):\n",
    "                rowList = []\n",
    "                for _ in range(len(mat1)):\n",
    "                    rowList.append(0)\n",
    "                newMatrix.append(rowList)\n",
    "            \n",
    "            for i in range(len(mat1)):\n",
    "                for j in range(len(mat1)):\n",
    "                    newMatrix[i][j] = mat1[i][j] + mat2[i][j]\n",
    "            \n",
    "            self.printMatrix(newMatrix)\n",
    "    \n",
    "    def multilpyMatrices(self, mat1, mat2):\n",
    "        if len(mat1[0]) != len(mat2):\n",
    "            print(\"Number of columns in Matrix 1 should be equal to the number of rows in Matrix 2\")\n",
    "        else:\n",
    "            # creating an empty matrix of same dimension as of other matrices\n",
    "            newMatrix = []\n",
    "            for _ in range(len(mat1)):\n",
    "                rowList = []\n",
    "                for _ in range(len(mat1)):\n",
    "                    rowList.append(0)\n",
    "                newMatrix.append(rowList)\n",
    "                \n",
    "            for i in range(len(mat1)): # loop over the row values\n",
    "                for j in range(len(mat2[0])): # loop over the column values\n",
    "                    for k in range(len(mat2)): \n",
    "                        # as per the formula of matrix multiplication\n",
    "                        newMatrix[i][j] += mat1[i][k] * mat2[k][j] \n",
    "                        \n",
    "            self.printMatrix(newMatrix) # calling the print function to print the new matrix\n",
    "        \n",
    "        "
   ]
  },
  {
   "cell_type": "code",
   "execution_count": 2,
   "metadata": {
    "ExecuteTime": {
     "end_time": "2021-03-05T04:11:31.859878Z",
     "start_time": "2021-03-05T04:11:28.273825Z"
    },
    "scrolled": true
   },
   "outputs": [
    {
     "name": "stdout",
     "output_type": "stream",
     "text": [
      "Enter the numbert of columns: 3\n",
      "Enter the number of rows: 3\n",
      "Fist Matrix: -\n",
      "[4, 5, 2]\n",
      "[9, 4, 0]\n",
      "[7, 1, 1]\n"
     ]
    }
   ],
   "source": [
    "col  = int(input(\"Enter the numbert of columns: \"))\n",
    "row  = int(input(\"Enter the number of rows: \"))\n",
    "\n",
    "matrixObj = Matrix(row, col) # first matrix object\n",
    "matrix1 = matrixObj.createMatrix()\n",
    "print(\"Fist Matrix: -\")\n",
    "matrixObj.printMatrix(matrix1)"
   ]
  },
  {
   "cell_type": "markdown",
   "metadata": {},
   "source": [
    "Create a matrix automatically"
   ]
  },
  {
   "cell_type": "code",
   "execution_count": 3,
   "metadata": {
    "ExecuteTime": {
     "end_time": "2021-03-05T04:11:31.877387Z",
     "start_time": "2021-03-05T04:11:31.869248Z"
    }
   },
   "outputs": [
    {
     "name": "stdout",
     "output_type": "stream",
     "text": [
      "[2, 5, 8, 6, 6]\n",
      "[7, 1, 2, 3, 1]\n",
      "[8, 8, 10, 9, 4]\n",
      "[6, 7, 10, 2, 8]\n",
      "[5, 3, 1, 2, 7]\n"
     ]
    }
   ],
   "source": [
    "matrixObj.createMatrixAutomatically()\n",
    "matrixObj.printAIMatrix()"
   ]
  },
  {
   "cell_type": "markdown",
   "metadata": {},
   "source": [
    "\n",
    "2. Get the numbers contained in a certain row and return that as a list"
   ]
  },
  {
   "cell_type": "code",
   "execution_count": 4,
   "metadata": {
    "ExecuteTime": {
     "end_time": "2021-03-05T04:11:34.380008Z",
     "start_time": "2021-03-05T04:11:31.889730Z"
    }
   },
   "outputs": [
    {
     "name": "stdout",
     "output_type": "stream",
     "text": [
      "Enter the Row number you want the data from: 2\n",
      "[9, 4, 0]\n"
     ]
    }
   ],
   "source": [
    "rowNum = int(input(\"Enter the Row number you want the data from: \"))\n",
    "matrixObj.getRow(rowNum)"
   ]
  },
  {
   "cell_type": "markdown",
   "metadata": {},
   "source": [
    "3. Get the numbers contained in a certain column and return that as a list"
   ]
  },
  {
   "cell_type": "code",
   "execution_count": 5,
   "metadata": {
    "ExecuteTime": {
     "end_time": "2021-03-05T04:11:36.760689Z",
     "start_time": "2021-03-05T04:11:34.389983Z"
    }
   },
   "outputs": [
    {
     "name": "stdout",
     "output_type": "stream",
     "text": [
      "Enter the Col number you want the data from: 1\n",
      "[4, 9, 7]\n"
     ]
    }
   ],
   "source": [
    "colNum = int(input(\"Enter the Col number you want the data from: \"))\n",
    "matrixObj.getCol(colNum)"
   ]
  },
  {
   "cell_type": "markdown",
   "metadata": {},
   "source": [
    "4. Add a second matrix object to the current matrix (what needs to be true about the properties of both matrices in order to perform this operation? Your code should check this!)"
   ]
  },
  {
   "cell_type": "code",
   "execution_count": 6,
   "metadata": {
    "ExecuteTime": {
     "end_time": "2021-03-05T04:11:36.797015Z",
     "start_time": "2021-03-05T04:11:36.788880Z"
    }
   },
   "outputs": [
    {
     "name": "stdout",
     "output_type": "stream",
     "text": [
      "Second Matrix: -\n",
      "[6, 6, 6]\n",
      "[5, 9, 0]\n",
      "[7, 1, 5]\n"
     ]
    }
   ],
   "source": [
    "matrixObj2 = Matrix(row, col) # second matrix object\n",
    "matrix2 = matrixObj2.createMatrix()\n",
    "print(\"Second Matrix: -\")\n",
    "matrixObj2.printMatrix(matrix2)"
   ]
  },
  {
   "cell_type": "code",
   "execution_count": 7,
   "metadata": {
    "ExecuteTime": {
     "end_time": "2021-03-05T04:11:36.817561Z",
     "start_time": "2021-03-05T04:11:36.802685Z"
    }
   },
   "outputs": [
    {
     "name": "stdout",
     "output_type": "stream",
     "text": [
      "Matrix 1 is :\n",
      " [[4, 5, 2], [9, 4, 0], [7, 1, 1]]\n",
      "Matrix 2 is :\n",
      " [[6, 6, 6], [5, 9, 0], [7, 1, 5]]\n",
      "New matrix after adding: -\n",
      "[10, 11, 8]\n",
      "[14, 13, 0]\n",
      "[14, 2, 6]\n"
     ]
    }
   ],
   "source": [
    "print(\"Matrix 1 is :\\n\", matrix1)\n",
    "print(\"Matrix 2 is :\\n\", matrix2)\n",
    "\n",
    "print(\"New matrix after adding: -\")\n",
    "matrixObj.addMatrices(matrix1, matrix2)"
   ]
  },
  {
   "cell_type": "markdown",
   "metadata": {},
   "source": [
    "5. Multiple a second matrix object with the current object, and return a new Matrix object equal to the product (What needs to be true about the two matrices in order for the multiple to be allowed, and what is the resulting size of the product?)"
   ]
  },
  {
   "cell_type": "code",
   "execution_count": 8,
   "metadata": {
    "ExecuteTime": {
     "end_time": "2021-03-05T04:11:36.838804Z",
     "start_time": "2021-03-05T04:11:36.828995Z"
    }
   },
   "outputs": [
    {
     "name": "stdout",
     "output_type": "stream",
     "text": [
      "Matrix 1 is :\n",
      " [[4, 5, 2], [9, 4, 0], [7, 1, 1]]\n",
      "Matrix 2 is :\n",
      " [[6, 6, 6], [5, 9, 0], [7, 1, 5]]\n",
      "New matrix after multiplying: -\n",
      "[63, 71, 34]\n",
      "[74, 90, 54]\n",
      "[54, 52, 47]\n"
     ]
    }
   ],
   "source": [
    "print(\"Matrix 1 is :\\n\", matrix1)\n",
    "print(\"Matrix 2 is :\\n\", matrix2)\n",
    "\n",
    "print(\"New matrix after multiplying: -\")\n",
    "matrixObj.multilpyMatrices(matrix1, matrix2)"
   ]
  },
  {
   "cell_type": "code",
   "execution_count": null,
   "metadata": {},
   "outputs": [],
   "source": []
  }
 ],
 "metadata": {
  "kernelspec": {
   "display_name": "Python 3",
   "language": "python",
   "name": "python3"
  },
  "language_info": {
   "codemirror_mode": {
    "name": "ipython",
    "version": 3
   },
   "file_extension": ".py",
   "mimetype": "text/x-python",
   "name": "python",
   "nbconvert_exporter": "python",
   "pygments_lexer": "ipython3",
   "version": "3.8.5"
  }
 },
 "nbformat": 4,
 "nbformat_minor": 4
}
