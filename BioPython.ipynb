{
 "cells": [
  {
   "cell_type": "markdown",
   "metadata": {},
   "source": [
    "## Step 1: Using SeqIO, read in and parse the file of apple primary transcripts (available on Canvas):\n",
    "    - During your parsing, create a list of only transcripts of length 125 or less\n",
    "    - Report the number of transcripts matching this criteria\n",
    "    - Translate these sequences to protein, make sure to save them to their own list"
   ]
  },
  {
   "cell_type": "code",
   "execution_count": 1,
   "metadata": {
    "ExecuteTime": {
     "end_time": "2021-03-22T02:56:14.998497Z",
     "start_time": "2021-03-22T02:56:07.894468Z"
    }
   },
   "outputs": [
    {
     "name": "stdout",
     "output_type": "stream",
     "text": [
      "transcripts of length 125 or less: 62\n"
     ]
    }
   ],
   "source": [
    "from Bio import SeqIO\n",
    "\n",
    "seqList = []\n",
    "translatedSeq = []\n",
    "for seq_record in SeqIO.parse(\"Mdomestica_491_v1.1.cds_primaryTranscriptOnly.fa\", \"fasta\"):\n",
    "        if len(seq_record) <= 125:\n",
    "            seqList.append(seq_record)\n",
    "            translatedSeq.append(seq_record.translate(to_stop=True)) # http://biopython.org/DIST/docs/tutorial/Tutorial.html 3.8 Translation\n",
    "\n",
    "# print(translatedSeq)\n",
    "print(\"transcripts of length 125 or less: \"+ str(len(seqList)))"
   ]
  },
  {
   "cell_type": "markdown",
   "metadata": {},
   "source": [
    "## Step 2: Align our small proteins using pairwise2\n",
    "    - Align each protein to each other protein using the blosum62 scoring matrix, a gap opening penalty of -10, and a gap extension penalty of -0.5\n",
    "    - If an alignment scores better than 40, save it.\n",
    "    - Print the highest scoring pairwise alignment\n",
    "    - Take care in how you set up your loops for the pairwise alignments. Each alignment only needs to be done once. If you've already tested the alignment of seq1 vs seq5, don't align seq5 vs seq1.\n",
    "    "
   ]
  },
  {
   "cell_type": "code",
   "execution_count": 2,
   "metadata": {
    "ExecuteTime": {
     "end_time": "2021-03-22T02:56:18.565871Z",
     "start_time": "2021-03-22T02:56:15.004196Z"
    }
   },
   "outputs": [
    {
     "name": "stdout",
     "output_type": "stream",
     "text": [
      "64 is the highest score!\n",
      "Print the highest scoring pairwise alignment : [Alignment(seqA='MI------------------WF------CFVFLGNGVVRFSQLLGCHFHVGSTSTKLRVRICKI', seqB='MLSDGEPVPCLHRSCGSKKSWFFKASFCCF-----------ELLAFFYP-------------KL', score=-8.0, start=0, end=64)]\n"
     ]
    }
   ],
   "source": [
    "from Bio import pairwise2\n",
    "from Bio.Align import substitution_matrices\n",
    "blosum62 = substitution_matrices.load(\"BLOSUM62\")\n",
    "\n",
    "alignments = []\n",
    "alignmentScore = 40\n",
    "highestScoringPairwiseAlignment = \"\"\n",
    "\n",
    "i=0\n",
    "while i in range(len(translatedSeq)):\n",
    "    if i%2 > 0: #skip to everyother one for processing improvment\n",
    "        alignments.append(pairwise2.align.globalds(translatedSeq[i-1].seq, translatedSeq[i].seq,blosum62, -10, -0.5))            \n",
    "    i+=1\n",
    "# print(alignments)\n",
    "    \n",
    "for elements in alignments:\n",
    "#     print(elements)\n",
    "    if elements[0][4] < 40: # from above activity we know that score is present in the 4th index\n",
    "        alignments.remove(elements)\n",
    "    else:\n",
    "        if elements[0][4] >= alignmentScore: # update everytime we get a new score more than the current Alignment Score\n",
    "            alignmentScore = elements[0][4]\n",
    "            highestScoringPairwiseAlignment = elements # Assign the pair wise alignment with max score\n",
    "            \n",
    "print(str(alignmentScore) + \" is the highest score!\")\n",
    "print(\"Print the highest scoring pairwise alignment :\", highestScoringPairwiseAlignment)"
   ]
  },
  {
   "cell_type": "markdown",
   "metadata": {},
   "source": [
    "## Step 3: Running BLAST and reading results\n",
    "     *Because we are doing a web BLAST, choose ONLY one sequence from our list of short proteins*.\n",
    "    - Run BLAST with your sequence against the NR database\n",
    "    - Parse the results. Report any HSPs with an E-value less than 0.05 and show the HSP alignments, including the name of the matching sequence. If no HSPs meet that criteria, report the highest scoring pair.\n",
    "    - If for whatever reason the sequence you selected fails to return any results, try a new one "
   ]
  },
  {
   "cell_type": "code",
   "execution_count": 3,
   "metadata": {
    "ExecuteTime": {
     "end_time": "2021-03-22T02:57:21.072215Z",
     "start_time": "2021-03-22T02:56:18.569705Z"
    }
   },
   "outputs": [],
   "source": [
    "from Bio.Blast import NCBIXML, NCBIWWW\n",
    "Seq = translatedSeq[2] # sequence are present in the second index\n",
    "\n",
    "result_handle = NCBIWWW.qblast(\"blastp\", \"nr\", Seq.seq)\n",
    "\n",
    "with open('my_blast.xml', 'w') as save_file: \n",
    "    blast_record = result_handle.read() \n",
    "    save_file.write(blast_record)"
   ]
  },
  {
   "cell_type": "code",
   "execution_count": 4,
   "metadata": {
    "ExecuteTime": {
     "end_time": "2021-03-22T02:57:21.095016Z",
     "start_time": "2021-03-22T02:57:21.075608Z"
    }
   },
   "outputs": [
    {
     "name": "stdout",
     "output_type": "stream",
     "text": [
      "****Alignment****\n",
      "Sequence  gb|TQD69456.1| hypothetical protein C1H46_045011 [Malus baccata]\n",
      "Sequence  gb|TQD97470.1| hypothetical protein C1H46_016931 [Malus baccata]\n",
      "Sequence  gb|TQE13584.1| hypothetical protein C1H46_000591 [Malus baccata]\n",
      "Sequence  gb|KAB2596638.1| hypothetical protein D8674_032088 [Pyrus ussuriensis x Pyrus communis]\n",
      "Sequence  gb|RXH99232.1| hypothetical protein DVH24_011557 [Malus domestica]\n",
      "Sequence  gb|TQD92717.1| hypothetical protein C1H46_021710 [Malus baccata]\n",
      "Sequence  gb|KAB2610802.1| hypothetical protein D8674_018834 [Pyrus ussuriensis x Pyrus communis]\n",
      "Sequence  gb|KAB2616017.1| hypothetical protein D8674_022605 [Pyrus ussuriensis x Pyrus communis]\n",
      "Sequence  gb|KAB2606699.1| hypothetical protein D8674_006416 [Pyrus ussuriensis x Pyrus communis]\n",
      "Sequence Not met the threshold : ref|WP_191618210.1| PQQ-dependent sugar dehydrogenase [Pelagicoccus sp. NFK12] >gb|MBD5781106.1| PQQ-dependent sugar dehydrogenase [Pelagicoccus sp. NFK12]\n"
     ]
    }
   ],
   "source": [
    "E_VALUE_THRESH = 0.05\n",
    "for blast_record in NCBIXML.parse(open(\"my_blast.xml\")): \n",
    "    if blast_record.alignments: \n",
    "        print(\"****Alignment****\")\n",
    "        for alignment in blast_record.alignments:\n",
    "            for hsp in alignment.hsps:\n",
    "                if hsp.expect < E_VALUE_THRESH: \n",
    "                    print(\"Sequence \", alignment.title)\n",
    "                else:\n",
    "                    print(\"Sequence Not met the threshold :\", alignment.title)"
   ]
  }
 ],
 "metadata": {
  "kernelspec": {
   "display_name": "Python 3",
   "language": "python",
   "name": "python3"
  },
  "language_info": {
   "codemirror_mode": {
    "name": "ipython",
    "version": 3
   },
   "file_extension": ".py",
   "mimetype": "text/x-python",
   "name": "python",
   "nbconvert_exporter": "python",
   "pygments_lexer": "ipython3",
   "version": "3.8.5"
  }
 },
 "nbformat": 4,
 "nbformat_minor": 2
}
